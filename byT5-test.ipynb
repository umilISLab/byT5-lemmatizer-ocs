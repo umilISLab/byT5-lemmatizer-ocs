{
 "cells": [
  {
   "cell_type": "markdown",
   "id": "8e9cf6c7-c78e-4c3b-b081-01f886c1c8e9",
   "metadata": {},
   "source": [
    "# Testing a trained model\n",
    "see README.md for details"
   ]
  },
  {
   "cell_type": "code",
   "execution_count": 1,
   "id": "de854925-4630-4dfc-b017-d45bd351fb1d",
   "metadata": {
    "execution": {
     "iopub.execute_input": "2024-07-11T15:45:53.403593Z",
     "iopub.status.busy": "2024-07-11T15:45:53.403115Z",
     "iopub.status.idle": "2024-07-11T15:45:54.809075Z",
     "shell.execute_reply": "2024-07-11T15:45:54.808655Z",
     "shell.execute_reply.started": "2024-07-11T15:45:53.403572Z"
    }
   },
   "outputs": [],
   "source": [
    "from transformers import AutoTokenizer, AutoModelForSeq2SeqLM\n",
    "\n",
    "import torch\n",
    "\n",
    "from config import model_root, data_root"
   ]
  },
  {
   "cell_type": "code",
   "execution_count": 2,
   "id": "17379363",
   "metadata": {
    "execution": {
     "iopub.execute_input": "2024-07-11T15:45:54.810628Z",
     "iopub.status.busy": "2024-07-11T15:45:54.809931Z",
     "iopub.status.idle": "2024-07-11T15:45:54.812671Z",
     "shell.execute_reply": "2024-07-11T15:45:54.812349Z",
     "shell.execute_reply.started": "2024-07-11T15:45:54.810609Z"
    }
   },
   "outputs": [],
   "source": [
    "special_token = 258"
   ]
  },
  {
   "cell_type": "code",
   "execution_count": 3,
   "id": "bb6ee88b-df85-424a-9a13-6aa4f5d03ff9",
   "metadata": {
    "execution": {
     "iopub.execute_input": "2024-07-11T15:45:54.813448Z",
     "iopub.status.busy": "2024-07-11T15:45:54.813155Z",
     "iopub.status.idle": "2024-07-11T15:45:58.519538Z",
     "shell.execute_reply": "2024-07-11T15:45:58.519139Z",
     "shell.execute_reply.started": "2024-07-11T15:45:54.813433Z"
    }
   },
   "outputs": [
    {
     "data": {
      "text/plain": [
       "transformers.models.t5.modeling_t5.T5ForConditionalGeneration"
      ]
     },
     "execution_count": 3,
     "metadata": {},
     "output_type": "execute_result"
    }
   ],
   "source": [
    "mname_generic = 'google/byt5-small'\n",
    "mname = f'{model_root}/byT5-ocs-stanzapos-Prolog'\n",
    "model = AutoModelForSeq2SeqLM.from_pretrained(mname)\n",
    "# model = T5ForConditionalGeneration.from_pretrained(mname)\n",
    "tokenizer = AutoTokenizer.from_pretrained(mname_generic)\n",
    "type(model)"
   ]
  },
  {
   "cell_type": "code",
   "execution_count": 4,
   "id": "7cd735d5-00ce-4bb1-bca1-55f6b809fbe0",
   "metadata": {
    "execution": {
     "iopub.execute_input": "2024-07-11T15:45:58.520515Z",
     "iopub.status.busy": "2024-07-11T15:45:58.520143Z",
     "iopub.status.idle": "2024-07-11T15:45:58.524409Z",
     "shell.execute_reply": "2024-07-11T15:45:58.524083Z",
     "shell.execute_reply.started": "2024-07-11T15:45:58.520478Z"
    }
   },
   "outputs": [
    {
     "data": {
      "text/plain": [
       "tensor([[ 61,  35, 212, 151, 211, 181, 211, 179, 211, 192, 211, 182, 211, 184,\n",
       "         211, 190, 212, 143, 212, 132, 211, 189, 211, 179, 211, 179, 211, 182,\n",
       "         211, 193,  61,  68,  71,  77,   1, 258, 257, 256]])"
      ]
     },
     "execution_count": 4,
     "metadata": {},
     "output_type": "execute_result"
    }
   ],
   "source": [
    "input_ids_prompt = \": євангельскааго:ADJ\"\n",
    "\n",
    "input_ids = tokenizer(input_ids_prompt).input_ids\n",
    "input_ids = torch.tensor([input_ids + [special_token, special_token -1, special_token-2]])\n",
    "\n",
    "# \" \".join(str(i) for i in input_ids)\n",
    "input_ids"
   ]
  },
  {
   "cell_type": "code",
   "execution_count": 5,
   "id": "97ab5c29-db65-4a44-bb9e-6928244fb978",
   "metadata": {
    "execution": {
     "iopub.execute_input": "2024-07-11T15:45:58.525736Z",
     "iopub.status.busy": "2024-07-11T15:45:58.525368Z",
     "iopub.status.idle": "2024-07-11T15:46:00.946884Z",
     "shell.execute_reply": "2024-07-11T15:46:00.946383Z",
     "shell.execute_reply.started": "2024-07-11T15:45:58.525736Z"
    }
   },
   "outputs": [],
   "source": [
    "output_res = model.generate(input_ids, max_length=100)\n",
    "output_ids = output_res[0].tolist()\n",
    "\n",
    "# output_ids"
   ]
  },
  {
   "cell_type": "code",
   "execution_count": 6,
   "id": "cce07ee5-ee50-402e-b327-83bcc823fb10",
   "metadata": {
    "execution": {
     "iopub.execute_input": "2024-07-11T15:46:00.947939Z",
     "iopub.status.busy": "2024-07-11T15:46:00.947505Z",
     "iopub.status.idle": "2024-07-11T15:46:00.950364Z",
     "shell.execute_reply": "2024-07-11T15:46:00.949972Z",
     "shell.execute_reply.started": "2024-07-11T15:46:00.947911Z"
    }
   },
   "outputs": [],
   "source": [
    "output_ids_list = []\n",
    "start_token = 0\n",
    "sentinel_token = special_token\n",
    "\n",
    "while sentinel_token in output_ids:\n",
    "    split_idx = output_ids.index(sentinel_token)\n",
    "    output_ids_list += [output_ids[start_token:split_idx]]\n",
    "    start_token = split_idx\n",
    "    sentinel_token -= 1"
   ]
  },
  {
   "cell_type": "code",
   "execution_count": 7,
   "id": "ab8a97cc-a382-49a7-96fe-0197bdc0b355",
   "metadata": {
    "execution": {
     "iopub.execute_input": "2024-07-11T15:46:00.950988Z",
     "iopub.status.busy": "2024-07-11T15:46:00.950838Z",
     "iopub.status.idle": "2024-07-11T15:46:02.837024Z",
     "shell.execute_reply": "2024-07-11T15:46:02.836498Z",
     "shell.execute_reply.started": "2024-07-11T15:46:00.950975Z"
    }
   },
   "outputs": [
    {
     "name": "stderr",
     "output_type": "stream",
     "text": [
      "2024-07-11 15:46:01.211957: E external/local_xla/xla/stream_executor/cuda/cuda_dnn.cc:9261] Unable to register cuDNN factory: Attempting to register factory for plugin cuDNN when one has already been registered\n",
      "2024-07-11 15:46:01.212013: E external/local_xla/xla/stream_executor/cuda/cuda_fft.cc:607] Unable to register cuFFT factory: Attempting to register factory for plugin cuFFT when one has already been registered\n",
      "2024-07-11 15:46:01.212939: E external/local_xla/xla/stream_executor/cuda/cuda_blas.cc:1515] Unable to register cuBLAS factory: Attempting to register factory for plugin cuBLAS when one has already been registered\n",
      "2024-07-11 15:46:01.218968: I tensorflow/core/platform/cpu_feature_guard.cc:182] This TensorFlow binary is optimized to use available CPU instructions in performance-critical operations.\n",
      "To enable the following instructions: AVX2 FMA, in other operations, rebuild TensorFlow with the appropriate compiler flags.\n",
      "2024-07-11 15:46:02.028880: W tensorflow/compiler/tf2tensorrt/utils/py_utils.cc:38] TF-TRT Warning: Could not find TensorRT\n"
     ]
    },
    {
     "data": {
      "text/plain": [
       "['<pad>',\n",
       " ' Аго:ADJ\\nАго:ADJ\\nАго:ADJ\\nАго:ADJ\\nАго:ADJ\\nАго:ADJ\\nАго:ADJ\\nАго:ADJ\\nАго:AD']"
      ]
     },
     "execution_count": 7,
     "metadata": {},
     "output_type": "execute_result"
    }
   ],
   "source": [
    "output_ids_list += [output_ids[start_token:]]\n",
    "output_string = tokenizer.batch_decode(output_ids_list)\n",
    "output_string"
   ]
  }
 ],
 "metadata": {
  "kernelspec": {
   "display_name": "Python 3 (ipykernel)",
   "language": "python",
   "name": "python3"
  },
  "language_info": {
   "codemirror_mode": {
    "name": "ipython",
    "version": 3
   },
   "file_extension": ".py",
   "mimetype": "text/x-python",
   "name": "python",
   "nbconvert_exporter": "python",
   "pygments_lexer": "ipython3",
   "version": "3.11.7"
  }
 },
 "nbformat": 4,
 "nbformat_minor": 5
}

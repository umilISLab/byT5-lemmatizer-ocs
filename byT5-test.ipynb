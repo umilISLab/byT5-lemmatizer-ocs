{
 "cells": [
  {
   "cell_type": "markdown",
   "id": "8e9cf6c7-c78e-4c3b-b081-01f886c1c8e9",
   "metadata": {},
   "source": [
    "# Testing a trained model\n",
    "see README.md for details"
   ]
  },
  {
   "cell_type": "code",
   "execution_count": 1,
   "id": "de854925-4630-4dfc-b017-d45bd351fb1d",
   "metadata": {
    "execution": {
     "iopub.execute_input": "2024-07-11T10:34:59.197568Z",
     "iopub.status.busy": "2024-07-11T10:34:59.197337Z",
     "iopub.status.idle": "2024-07-11T10:35:00.678470Z",
     "shell.execute_reply": "2024-07-11T10:35:00.677927Z",
     "shell.execute_reply.started": "2024-07-11T10:34:59.197550Z"
    }
   },
   "outputs": [],
   "source": [
    "from transformers import AutoTokenizer, AutoModelForSeq2SeqLM\n",
    "\n",
    "import torch\n",
    "\n",
    "from config import model_root, data_root"
   ]
  },
  {
   "cell_type": "code",
   "execution_count": null,
   "id": "17379363",
   "metadata": {},
   "outputs": [],
   "source": [
    "special_token = 258"
   ]
  },
  {
   "cell_type": "code",
   "execution_count": 2,
   "id": "bb6ee88b-df85-424a-9a13-6aa4f5d03ff9",
   "metadata": {
    "execution": {
     "iopub.execute_input": "2024-07-11T10:35:00.679615Z",
     "iopub.status.busy": "2024-07-11T10:35:00.679369Z",
     "iopub.status.idle": "2024-07-11T10:35:04.048689Z",
     "shell.execute_reply": "2024-07-11T10:35:04.048161Z",
     "shell.execute_reply.started": "2024-07-11T10:35:00.679615Z"
    }
   },
   "outputs": [
    {
     "data": {
      "text/plain": [
       "transformers.models.t5.modeling_t5.T5ForConditionalGeneration"
      ]
     },
     "execution_count": 2,
     "metadata": {},
     "output_type": "execute_result"
    }
   ],
   "source": [
    "mname_generic = 'google/byt5-small'\n",
    "mname = f'{model_root}/byT5-ocs-stanzapos-Prolog'\n",
    "model = AutoModelForSeq2SeqLM.from_pretrained(mname)\n",
    "# model = T5ForConditionalGeneration.from_pretrained(mname)\n",
    "tokenizer = AutoTokenizer.from_pretrained(mname_generic)\n",
    "type(model)"
   ]
  },
  {
   "cell_type": "code",
   "execution_count": 3,
   "id": "7cd735d5-00ce-4bb1-bca1-55f6b809fbe0",
   "metadata": {
    "execution": {
     "iopub.execute_input": "2024-07-11T10:35:04.049480Z",
     "iopub.status.busy": "2024-07-11T10:35:04.049328Z",
     "iopub.status.idle": "2024-07-11T10:35:04.054278Z",
     "shell.execute_reply": "2024-07-11T10:35:04.053800Z",
     "shell.execute_reply.started": "2024-07-11T10:35:04.049465Z"
    }
   },
   "outputs": [
    {
     "data": {
      "text/plain": [
       "tensor([[ 61,  35, 212, 151, 211, 181, 211, 179, 211, 192, 211, 182, 211, 184,\n",
       "         211, 190, 212, 143, 212, 132, 211, 189, 211, 179, 211, 179, 211, 182,\n",
       "         211, 193,  61,  68,  71,  77,   1, 258, 257, 256]])"
      ]
     },
     "execution_count": 3,
     "metadata": {},
     "output_type": "execute_result"
    }
   ],
   "source": [
    "input_ids_prompt = \": євангельскааго:ADJ\"\n",
    "\n",
    "input_ids = tokenizer(input_ids_prompt).input_ids\n",
    "input_ids = torch.tensor([input_ids + [special_token, special_token -1, special_token-2]])\n",
    "\n",
    "# \" \".join(str(i) for i in input_ids)\n",
    "input_ids"
   ]
  },
  {
   "cell_type": "code",
   "execution_count": 4,
   "id": "97ab5c29-db65-4a44-bb9e-6928244fb978",
   "metadata": {
    "execution": {
     "iopub.execute_input": "2024-07-11T10:35:04.055358Z",
     "iopub.status.busy": "2024-07-11T10:35:04.055217Z",
     "iopub.status.idle": "2024-07-11T10:35:08.283005Z",
     "shell.execute_reply": "2024-07-11T10:35:08.282336Z",
     "shell.execute_reply.started": "2024-07-11T10:35:04.055344Z"
    }
   },
   "outputs": [],
   "source": [
    "output_res = model.generate(input_ids, max_length=100)\n",
    "output_ids = output_res[0].tolist()\n",
    "\n",
    "# output_ids"
   ]
  },
  {
   "cell_type": "code",
   "execution_count": 5,
   "id": "cce07ee5-ee50-402e-b327-83bcc823fb10",
   "metadata": {
    "execution": {
     "iopub.execute_input": "2024-07-11T10:35:08.284234Z",
     "iopub.status.busy": "2024-07-11T10:35:08.284031Z",
     "iopub.status.idle": "2024-07-11T10:35:08.287266Z",
     "shell.execute_reply": "2024-07-11T10:35:08.286689Z",
     "shell.execute_reply.started": "2024-07-11T10:35:08.284215Z"
    }
   },
   "outputs": [],
   "source": [
    "output_ids_list = []\n",
    "start_token = 0\n",
    "sentinel_token = special_token\n",
    "\n",
    "while sentinel_token in output_ids:\n",
    "    split_idx = output_ids.index(sentinel_token)\n",
    "    output_ids_list += [output_ids[start_token:split_idx]]\n",
    "    start_token = split_idx\n",
    "    sentinel_token -= 1"
   ]
  },
  {
   "cell_type": "code",
   "execution_count": null,
   "id": "ab8a97cc-a382-49a7-96fe-0197bdc0b355",
   "metadata": {
    "execution": {
     "iopub.execute_input": "2024-07-11T10:35:08.288167Z",
     "iopub.status.busy": "2024-07-11T10:35:08.287943Z"
    }
   },
   "outputs": [],
   "source": [
    "output_ids_list += [output_ids[start_token:]]\n",
    "output_string = tokenizer.batch_decode(output_ids_list)\n",
    "output_string"
   ]
  }
 ],
 "metadata": {
  "kernelspec": {
   "display_name": "Python 3 (ipykernel)",
   "language": "python",
   "name": "python3"
  },
  "language_info": {
   "codemirror_mode": {
    "name": "ipython",
    "version": 3
   },
   "file_extension": ".py",
   "mimetype": "text/x-python",
   "name": "python",
   "nbconvert_exporter": "python",
   "pygments_lexer": "ipython3",
   "version": "3.11.7"
  }
 },
 "nbformat": 4,
 "nbformat_minor": 5
}

{
 "cells": [
  {
   "cell_type": "markdown",
   "id": "8e9cf6c7-c78e-4c3b-b081-01f886c1c8e9",
   "metadata": {},
   "source": [
    "# Testing a trained model\n",
    "see README.md for details"
   ]
  },
  {
   "cell_type": "code",
   "execution_count": 1,
   "id": "de854925-4630-4dfc-b017-d45bd351fb1d",
   "metadata": {
    "execution": {
     "iopub.execute_input": "2024-07-12T21:37:05.778372Z",
     "iopub.status.busy": "2024-07-12T21:37:05.777892Z",
     "iopub.status.idle": "2024-07-12T21:37:07.235811Z",
     "shell.execute_reply": "2024-07-12T21:37:07.235310Z",
     "shell.execute_reply.started": "2024-07-12T21:37:05.778352Z"
    }
   },
   "outputs": [],
   "source": [
    "from transformers import AutoModelForSeq2SeqLM\n",
    "\n",
    "import torch\n",
    "\n",
    "from config import model_root, data_root, checkpoint_name\n",
    "from config import token_len, annot_len"
   ]
  },
  {
   "cell_type": "code",
   "execution_count": 5,
   "id": "17379363",
   "metadata": {
    "execution": {
     "iopub.execute_input": "2024-07-12T21:37:23.255686Z",
     "iopub.status.busy": "2024-07-12T21:37:23.255203Z",
     "iopub.status.idle": "2024-07-12T21:37:23.258377Z",
     "shell.execute_reply": "2024-07-12T21:37:23.257842Z",
     "shell.execute_reply.started": "2024-07-12T21:37:23.255665Z"
    }
   },
   "outputs": [],
   "source": [
    "special_token = 258\n",
    "num_special_tokens = 3"
   ]
  },
  {
   "cell_type": "code",
   "execution_count": 3,
   "id": "bb6ee88b-df85-424a-9a13-6aa4f5d03ff9",
   "metadata": {
    "execution": {
     "iopub.execute_input": "2024-07-12T21:37:07.240879Z",
     "iopub.status.busy": "2024-07-12T21:37:07.240763Z",
     "iopub.status.idle": "2024-07-12T21:37:10.067911Z",
     "shell.execute_reply": "2024-07-12T21:37:10.067436Z",
     "shell.execute_reply.started": "2024-07-12T21:37:07.240870Z"
    }
   },
   "outputs": [
    {
     "data": {
      "text/plain": [
       "transformers.models.t5.modeling_t5.T5ForConditionalGeneration"
      ]
     },
     "execution_count": 3,
     "metadata": {},
     "output_type": "execute_result"
    }
   ],
   "source": [
    "mname = f\"{model_root}/{checkpoint_name}\"\n",
    "model = AutoModelForSeq2SeqLM.from_pretrained(mname)\n",
    "type(model)"
   ]
  },
  {
   "cell_type": "code",
   "execution_count": 20,
   "id": "7cd735d5-00ce-4bb1-bca1-55f6b809fbe0",
   "metadata": {
    "execution": {
     "iopub.execute_input": "2024-07-12T21:45:30.121471Z",
     "iopub.status.busy": "2024-07-12T21:45:30.121009Z",
     "iopub.status.idle": "2024-07-12T21:45:30.126478Z",
     "shell.execute_reply": "2024-07-12T21:45:30.125965Z",
     "shell.execute_reply.started": "2024-07-12T21:45:30.121448Z"
    }
   },
   "outputs": [
    {
     "data": {
      "text/plain": [
       "tensor([[ 58,  32, 208, 190, 209, 131, 209, 129, 209, 130, 208, 176, 208, 178,\n",
       "         208, 187, 209, 148, 208, 189, 208, 176, 234, 153, 151,  58,  86,  69,\n",
       "          82,  66,   0,   0,   0,   0,   0,   0,   0,   0,   0,   0]])"
      ]
     },
     "execution_count": 20,
     "metadata": {},
     "output_type": "execute_result"
    }
   ],
   "source": [
    "input_prompt = \": євангельскааго:ADJ\"\n",
    "input_prompt = \": прѣсловѧї:VERB\"\n",
    "input_prompt = \": оуставлєнаꙗ:VERB\"\n",
    "input_list = [list(input_prompt.encode(\"utf-8\"))]\n",
    "\n",
    "input_len = token_len + annot_len\n",
    "input_list = [l + [0] * (input_len - len(l)) for l in input_list]\n",
    "input_ids = torch.tensor(input_list)  # + num_special_tokens\n",
    "\n",
    "# \" \".join(str(i) for i in input_ids)\n",
    "input_ids"
   ]
  },
  {
   "cell_type": "code",
   "execution_count": 21,
   "id": "97ab5c29-db65-4a44-bb9e-6928244fb978",
   "metadata": {
    "execution": {
     "iopub.execute_input": "2024-07-12T21:45:33.219893Z",
     "iopub.status.busy": "2024-07-12T21:45:33.219364Z",
     "iopub.status.idle": "2024-07-12T21:45:36.114874Z",
     "shell.execute_reply": "2024-07-12T21:45:36.114337Z",
     "shell.execute_reply.started": "2024-07-12T21:45:33.219872Z"
    }
   },
   "outputs": [],
   "source": [
    "output_res = model.generate(input_ids, max_length=token_len)\n",
    "output_ids = output_res[0].tolist()\n",
    "\n",
    "# \"\".join(output_ids)"
   ]
  },
  {
   "cell_type": "code",
   "execution_count": 22,
   "id": "fb77ca46-3201-426f-905f-547cddc778ac",
   "metadata": {
    "execution": {
     "iopub.execute_input": "2024-07-12T21:45:36.877675Z",
     "iopub.status.busy": "2024-07-12T21:45:36.877464Z",
     "iopub.status.idle": "2024-07-12T21:45:36.884225Z",
     "shell.execute_reply": "2024-07-12T21:45:36.883827Z",
     "shell.execute_reply.started": "2024-07-12T21:45:36.877658Z"
    }
   },
   "outputs": [
    {
     "data": {
      "text/plain": [
       "'наꙗ:VERBVERBVERBVERBVERB'"
      ]
     },
     "execution_count": 22,
     "metadata": {},
     "output_type": "execute_result"
    }
   ],
   "source": [
    "assert output_ids[0] == 0 and output_ids[1] == 258\n",
    "bytes(output_ids[2:]).decode(\"utf-8\")\n",
    "# output_ids"
   ]
  },
  {
   "cell_type": "raw",
   "id": "5630af6c",
   "metadata": {
    "execution": {
     "iopub.execute_input": "2024-07-11T15:46:00.947939Z",
     "iopub.status.busy": "2024-07-11T15:46:00.947505Z",
     "iopub.status.idle": "2024-07-11T15:46:00.950364Z",
     "shell.execute_reply": "2024-07-11T15:46:00.949972Z",
     "shell.execute_reply.started": "2024-07-11T15:46:00.947911Z"
    }
   },
   "source": [
    "output_ids_list = []\n",
    "start_token = 0\n",
    "sentinel_token = special_token\n",
    "\n",
    "while sentinel_token in output_ids:\n",
    "    split_idx = output_ids.index(sentinel_token)\n",
    "    output_ids_list += [output_ids[start_token:split_idx]]\n",
    "    start_token = split_idx\n",
    "    sentinel_token -= 1\n",
    "output_ids_list += [output_ids[start_token:]]\n"
   ]
  }
 ],
 "metadata": {
  "kernelspec": {
   "display_name": "Python 3 (ipykernel)",
   "language": "python",
   "name": "python3"
  },
  "language_info": {
   "codemirror_mode": {
    "name": "ipython",
    "version": 3
   },
   "file_extension": ".py",
   "mimetype": "text/x-python",
   "name": "python",
   "nbconvert_exporter": "python",
   "pygments_lexer": "ipython3",
   "version": "3.11.7"
  }
 },
 "nbformat": 4,
 "nbformat_minor": 5
}

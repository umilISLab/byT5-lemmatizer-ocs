{
 "cells": [
  {
   "cell_type": "markdown",
   "id": "c8436a50",
   "metadata": {},
   "source": [
    "# Training a model\n",
    "see README.md for details"
   ]
  },
  {
   "cell_type": "code",
   "execution_count": 2,
   "id": "aebe0dee-1ee6-41c8-9ebb-5d64ea9f93cc",
   "metadata": {
    "execution": {
     "iopub.execute_input": "2024-07-11T09:52:26.483766Z",
     "iopub.status.busy": "2024-07-11T09:52:26.483229Z",
     "iopub.status.idle": "2024-07-11T09:52:28.489172Z",
     "shell.execute_reply": "2024-07-11T09:52:28.488748Z",
     "shell.execute_reply.started": "2024-07-11T09:52:26.483746Z"
    },
    "tags": []
   },
   "outputs": [],
   "source": [
    "from tqdm import tqdm\n",
    "import glob\n",
    "from transformers import T5ForConditionalGeneration, AutoTokenizer #, TrainingArguments, Trainer\n",
    "import torch\n",
    "\n",
    "from config import data_root, model_root"
   ]
  },
  {
   "cell_type": "code",
   "execution_count": 3,
   "id": "3bcf1d65-b9c0-4d65-acd4-de483927446e",
   "metadata": {
    "execution": {
     "iopub.execute_input": "2024-07-11T09:52:28.490420Z",
     "iopub.status.busy": "2024-07-11T09:52:28.490215Z",
     "iopub.status.idle": "2024-07-11T09:52:28.521116Z",
     "shell.execute_reply": "2024-07-11T09:52:28.519702Z",
     "shell.execute_reply.started": "2024-07-11T09:52:28.490412Z"
    },
    "tags": []
   },
   "outputs": [
    {
     "data": {
      "text/plain": [
       "True"
      ]
     },
     "execution_count": 3,
     "metadata": {},
     "output_type": "execute_result"
    }
   ],
   "source": [
    "torch.cuda.is_available()"
   ]
  },
  {
   "cell_type": "code",
   "execution_count": 4,
   "id": "96c5f266-6af6-4f5c-b5e9-aa3a8590f4d9",
   "metadata": {
    "execution": {
     "iopub.execute_input": "2024-07-11T09:52:28.521827Z",
     "iopub.status.busy": "2024-07-11T09:52:28.521706Z",
     "iopub.status.idle": "2024-07-11T09:52:28.561661Z",
     "shell.execute_reply": "2024-07-11T09:52:28.561034Z",
     "shell.execute_reply.started": "2024-07-11T09:52:28.521812Z"
    }
   },
   "outputs": [
    {
     "ename": "NameError",
     "evalue": "name 'TrainingArguments' is not defined",
     "output_type": "error",
     "traceback": [
      "\u001b[0;31m---------------------------------------------------------------------------\u001b[0m",
      "\u001b[0;31mNameError\u001b[0m                                 Traceback (most recent call last)",
      "Cell \u001b[0;32mIn[4], line 1\u001b[0m\n\u001b[0;32m----> 1\u001b[0m training_args \u001b[38;5;241m=\u001b[39m \u001b[43mTrainingArguments\u001b[49m(per_device_train_batch_size\u001b[38;5;241m=\u001b[39m\u001b[38;5;241m1\u001b[39m, gradient_accumulation_steps\u001b[38;5;241m=\u001b[39m\u001b[38;5;241m4\u001b[39m, \u001b[38;5;241m*\u001b[39m\u001b[38;5;241m*\u001b[39mdefault_args)\n",
      "\u001b[0;31mNameError\u001b[0m: name 'TrainingArguments' is not defined"
     ]
    }
   ],
   "source": [
    "# training_args = TrainingArguments(per_device_train_batch_size=1, gradient_accumulation_steps=4, **default_args)"
   ]
  },
  {
   "cell_type": "code",
   "execution_count": 5,
   "id": "a6a5d8b9-3870-4c7f-aaa5-22996332d444",
   "metadata": {
    "execution": {
     "iopub.execute_input": "2024-07-11T09:52:39.312087Z",
     "iopub.status.busy": "2024-07-11T09:52:39.311851Z",
     "iopub.status.idle": "2024-07-11T09:53:08.334738Z",
     "shell.execute_reply": "2024-07-11T09:53:08.334220Z",
     "shell.execute_reply.started": "2024-07-11T09:52:39.312069Z"
    }
   },
   "outputs": [
    {
     "data": {
      "application/vnd.jupyter.widget-view+json": {
       "model_id": "482a972ab09a45898006af9e891d1884",
       "version_major": 2,
       "version_minor": 0
      },
      "text/plain": [
       "config.json:   0%|          | 0.00/698 [00:00<?, ?B/s]"
      ]
     },
     "metadata": {},
     "output_type": "display_data"
    },
    {
     "data": {
      "application/vnd.jupyter.widget-view+json": {
       "model_id": "75473dcf4a794127bd657bdd5771da5f",
       "version_major": 2,
       "version_minor": 0
      },
      "text/plain": [
       "pytorch_model.bin:   0%|          | 0.00/1.20G [00:00<?, ?B/s]"
      ]
     },
     "metadata": {},
     "output_type": "display_data"
    },
    {
     "data": {
      "application/vnd.jupyter.widget-view+json": {
       "model_id": "8a1c7769e4ee4112a90fca0345dd9082",
       "version_major": 2,
       "version_minor": 0
      },
      "text/plain": [
       "generation_config.json:   0%|          | 0.00/147 [00:00<?, ?B/s]"
      ]
     },
     "metadata": {},
     "output_type": "display_data"
    },
    {
     "data": {
      "application/vnd.jupyter.widget-view+json": {
       "model_id": "e08dbdd0fd744d479bba713e689aec73",
       "version_major": 2,
       "version_minor": 0
      },
      "text/plain": [
       "tokenizer_config.json:   0%|          | 0.00/2.59k [00:00<?, ?B/s]"
      ]
     },
     "metadata": {},
     "output_type": "display_data"
    },
    {
     "data": {
      "application/vnd.jupyter.widget-view+json": {
       "model_id": "42c2df08ef264593a26486208f19c163",
       "version_major": 2,
       "version_minor": 0
      },
      "text/plain": [
       "special_tokens_map.json:   0%|          | 0.00/2.50k [00:00<?, ?B/s]"
      ]
     },
     "metadata": {},
     "output_type": "display_data"
    },
    {
     "data": {
      "text/plain": [
       "transformers.models.t5.modeling_t5.T5ForConditionalGeneration"
      ]
     },
     "execution_count": 5,
     "metadata": {},
     "output_type": "execute_result"
    }
   ],
   "source": [
    "mname = 'google/byt5-small'\n",
    "model = T5ForConditionalGeneration.from_pretrained(mname)\n",
    "tokenizer = AutoTokenizer.from_pretrained(mname)\n",
    "type(model)"
   ]
  },
  {
   "cell_type": "code",
   "execution_count": 6,
   "id": "d52fc11b-6eeb-45e2-a4c2-753025389299",
   "metadata": {
    "execution": {
     "iopub.execute_input": "2024-07-11T09:53:11.757380Z",
     "iopub.status.busy": "2024-07-11T09:53:11.756954Z",
     "iopub.status.idle": "2024-07-11T09:53:11.768434Z",
     "shell.execute_reply": "2024-07-11T09:53:11.768026Z",
     "shell.execute_reply.started": "2024-07-11T09:53:11.757362Z"
    }
   },
   "outputs": [
    {
     "name": "stderr",
     "output_type": "stream",
     "text": [
      "100%|██████████| 1/1 [00:00<00:00, 226.83it/s]"
     ]
    },
    {
     "name": "stdout",
     "output_type": "stream",
     "text": [
      "../stanza_pos/00-Prolog.train\n"
     ]
    },
    {
     "name": "stderr",
     "output_type": "stream",
     "text": [
      "\n"
     ]
    },
    {
     "data": {
      "text/plain": [
       "392"
      ]
     },
     "execution_count": 6,
     "metadata": {},
     "output_type": "execute_result"
    }
   ],
   "source": [
    "input_list = []\n",
    "label_list = []\n",
    "\n",
    "for fname in tqdm(glob.glob(f\"{data_root}/00-Prolog.train\")):\n",
    "# for fname in tqdm(glob.glob(f\"{data_root}/*.train\")):\n",
    "    print(fname)\n",
    "    with open(fname) as fin:\n",
    "        for i, row in enumerate(fin):\n",
    "            line = row[:-1].split(\"\\t\")\n",
    "            input_list += [line[0]]\n",
    "            label_list += [line[1]]\n",
    "len(input_list)"
   ]
  },
  {
   "cell_type": "code",
   "execution_count": 7,
   "id": "530ccd2a-b57b-490b-9d70-242cccb085dc",
   "metadata": {
    "execution": {
     "iopub.execute_input": "2024-07-11T09:53:32.036852Z",
     "iopub.status.busy": "2024-07-11T09:53:32.036640Z",
     "iopub.status.idle": "2024-07-11T09:54:12.413069Z",
     "shell.execute_reply": "2024-07-11T09:54:12.412576Z",
     "shell.execute_reply.started": "2024-07-11T09:53:32.036835Z"
    }
   },
   "outputs": [],
   "source": [
    "\n",
    "model_inputs = tokenizer(input_list, padding=\"longest\", return_tensors=\"pt\")\n",
    "\n",
    "labels_dict = tokenizer(label_list, padding=\"longest\", return_tensors=\"pt\")\n",
    "labels = labels_dict.input_ids\n",
    "\n",
    "m = model(**model_inputs, labels=labels)\n",
    "# m = model(input_list, labels=label_list)"
   ]
  },
  {
   "cell_type": "code",
   "execution_count": 9,
   "id": "8813ad3e-3060-47cc-aee0-bb1965fe89fe",
   "metadata": {
    "execution": {
     "iopub.execute_input": "2024-07-11T10:06:03.106638Z",
     "iopub.status.busy": "2024-07-11T10:06:03.106127Z",
     "iopub.status.idle": "2024-07-11T10:06:04.303361Z",
     "shell.execute_reply": "2024-07-11T10:06:04.302790Z",
     "shell.execute_reply.started": "2024-07-11T10:06:03.106615Z"
    },
    "tags": []
   },
   "outputs": [],
   "source": [
    "model.save_pretrained(f\"{model_root}/byT5-ocs-stanzapos-Prolog\")"
   ]
  }
 ],
 "metadata": {
  "kernelspec": {
   "display_name": "Python 3 (ipykernel)",
   "language": "python",
   "name": "python3"
  },
  "language_info": {
   "codemirror_mode": {
    "name": "ipython",
    "version": 3
   },
   "file_extension": ".py",
   "mimetype": "text/x-python",
   "name": "python",
   "nbconvert_exporter": "python",
   "pygments_lexer": "ipython3",
   "version": "3.11.7"
  }
 },
 "nbformat": 4,
 "nbformat_minor": 5
}

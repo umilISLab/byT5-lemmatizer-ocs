{
 "cells": [
  {
   "cell_type": "markdown",
   "id": "c8436a50",
   "metadata": {},
   "source": [
    "# Training a model\n",
    "see README.md for details"
   ]
  },
  {
   "cell_type": "code",
   "execution_count": 1,
   "id": "aebe0dee-1ee6-41c8-9ebb-5d64ea9f93cc",
   "metadata": {
    "execution": {
     "iopub.execute_input": "2024-07-11T15:43:15.824489Z",
     "iopub.status.busy": "2024-07-11T15:43:15.824017Z",
     "iopub.status.idle": "2024-07-11T15:43:17.807945Z",
     "shell.execute_reply": "2024-07-11T15:43:17.807452Z",
     "shell.execute_reply.started": "2024-07-11T15:43:15.824470Z"
    },
    "tags": []
   },
   "outputs": [],
   "source": [
    "from tqdm import tqdm\n",
    "import glob\n",
    "from transformers import T5ForConditionalGeneration, AutoTokenizer #, TrainingArguments, Trainer\n",
    "import torch\n",
    "\n",
    "from config import data_root, model_root"
   ]
  },
  {
   "cell_type": "code",
   "execution_count": 2,
   "id": "3bcf1d65-b9c0-4d65-acd4-de483927446e",
   "metadata": {
    "execution": {
     "iopub.execute_input": "2024-07-11T15:43:17.809139Z",
     "iopub.status.busy": "2024-07-11T15:43:17.808891Z",
     "iopub.status.idle": "2024-07-11T15:43:17.836821Z",
     "shell.execute_reply": "2024-07-11T15:43:17.836390Z",
     "shell.execute_reply.started": "2024-07-11T15:43:17.809123Z"
    },
    "tags": []
   },
   "outputs": [
    {
     "data": {
      "text/plain": [
       "True"
      ]
     },
     "execution_count": 2,
     "metadata": {},
     "output_type": "execute_result"
    }
   ],
   "source": [
    "torch.cuda.is_available()"
   ]
  },
  {
   "cell_type": "code",
   "execution_count": 3,
   "id": "96c5f266-6af6-4f5c-b5e9-aa3a8590f4d9",
   "metadata": {
    "execution": {
     "iopub.execute_input": "2024-07-11T15:43:17.837752Z",
     "iopub.status.busy": "2024-07-11T15:43:17.837528Z",
     "iopub.status.idle": "2024-07-11T15:43:17.840200Z",
     "shell.execute_reply": "2024-07-11T15:43:17.839634Z",
     "shell.execute_reply.started": "2024-07-11T15:43:17.837736Z"
    }
   },
   "outputs": [],
   "source": [
    "# training_args = TrainingArguments(per_device_train_batch_size=1, gradient_accumulation_steps=4, **default_args)"
   ]
  },
  {
   "cell_type": "code",
   "execution_count": 4,
   "id": "a6a5d8b9-3870-4c7f-aaa5-22996332d444",
   "metadata": {
    "execution": {
     "iopub.execute_input": "2024-07-11T15:43:17.840911Z",
     "iopub.status.busy": "2024-07-11T15:43:17.840764Z",
     "iopub.status.idle": "2024-07-11T15:43:54.431870Z",
     "shell.execute_reply": "2024-07-11T15:43:54.431543Z",
     "shell.execute_reply.started": "2024-07-11T15:43:17.840898Z"
    }
   },
   "outputs": [
    {
     "data": {
      "application/vnd.jupyter.widget-view+json": {
       "model_id": "9775fa22fce047acb9983728519c962b",
       "version_major": 2,
       "version_minor": 0
      },
      "text/plain": [
       "config.json:   0%|          | 0.00/698 [00:00<?, ?B/s]"
      ]
     },
     "metadata": {},
     "output_type": "display_data"
    },
    {
     "data": {
      "application/vnd.jupyter.widget-view+json": {
       "model_id": "0d6aa29eff3641a19e6955439fe55041",
       "version_major": 2,
       "version_minor": 0
      },
      "text/plain": [
       "pytorch_model.bin:   0%|          | 0.00/1.20G [00:00<?, ?B/s]"
      ]
     },
     "metadata": {},
     "output_type": "display_data"
    },
    {
     "data": {
      "application/vnd.jupyter.widget-view+json": {
       "model_id": "d2ae5aa80a0f424ba965ffbec9adb0eb",
       "version_major": 2,
       "version_minor": 0
      },
      "text/plain": [
       "generation_config.json:   0%|          | 0.00/147 [00:00<?, ?B/s]"
      ]
     },
     "metadata": {},
     "output_type": "display_data"
    },
    {
     "data": {
      "application/vnd.jupyter.widget-view+json": {
       "model_id": "c6700cd85c40465699dd414dc41c4764",
       "version_major": 2,
       "version_minor": 0
      },
      "text/plain": [
       "tokenizer_config.json:   0%|          | 0.00/2.59k [00:00<?, ?B/s]"
      ]
     },
     "metadata": {},
     "output_type": "display_data"
    },
    {
     "data": {
      "application/vnd.jupyter.widget-view+json": {
       "model_id": "454ee30b9ec941ccb46e70f721801d0e",
       "version_major": 2,
       "version_minor": 0
      },
      "text/plain": [
       "special_tokens_map.json:   0%|          | 0.00/2.50k [00:00<?, ?B/s]"
      ]
     },
     "metadata": {},
     "output_type": "display_data"
    },
    {
     "data": {
      "text/plain": [
       "transformers.models.t5.modeling_t5.T5ForConditionalGeneration"
      ]
     },
     "execution_count": 4,
     "metadata": {},
     "output_type": "execute_result"
    }
   ],
   "source": [
    "mname = 'google/byt5-small'\n",
    "model = T5ForConditionalGeneration.from_pretrained(mname)\n",
    "tokenizer = AutoTokenizer.from_pretrained(mname)\n",
    "type(model)"
   ]
  },
  {
   "cell_type": "code",
   "execution_count": 5,
   "id": "d52fc11b-6eeb-45e2-a4c2-753025389299",
   "metadata": {
    "execution": {
     "iopub.execute_input": "2024-07-11T15:43:54.433380Z",
     "iopub.status.busy": "2024-07-11T15:43:54.432951Z",
     "iopub.status.idle": "2024-07-11T15:43:54.444222Z",
     "shell.execute_reply": "2024-07-11T15:43:54.443857Z",
     "shell.execute_reply.started": "2024-07-11T15:43:54.433362Z"
    }
   },
   "outputs": [
    {
     "name": "stderr",
     "output_type": "stream",
     "text": [
      "100%|██████████| 1/1 [00:00<00:00, 313.69it/s]"
     ]
    },
    {
     "name": "stdout",
     "output_type": "stream",
     "text": [
      "./stanza_pos/00-Prolog.train\n"
     ]
    },
    {
     "name": "stderr",
     "output_type": "stream",
     "text": [
      "\n"
     ]
    },
    {
     "data": {
      "text/plain": [
       "392"
      ]
     },
     "execution_count": 5,
     "metadata": {},
     "output_type": "execute_result"
    }
   ],
   "source": [
    "input_list = []\n",
    "label_list = []\n",
    "\n",
    "for fname in tqdm(glob.glob(f\"{data_root}/00-Prolog.train\")):\n",
    "# for fname in tqdm(glob.glob(f\"{data_root}/*.train\")):\n",
    "    print(fname)\n",
    "    with open(fname) as fin:\n",
    "        for i, row in enumerate(fin):\n",
    "            line = row[:-1].split(\"\\t\")\n",
    "            input_list += [line[0]]\n",
    "            label_list += [line[1]]\n",
    "len(input_list)"
   ]
  },
  {
   "cell_type": "code",
   "execution_count": 6,
   "id": "530ccd2a-b57b-490b-9d70-242cccb085dc",
   "metadata": {
    "execution": {
     "iopub.execute_input": "2024-07-11T15:43:54.446036Z",
     "iopub.status.busy": "2024-07-11T15:43:54.445893Z",
     "iopub.status.idle": "2024-07-11T15:44:13.277322Z",
     "shell.execute_reply": "2024-07-11T15:44:13.276716Z",
     "shell.execute_reply.started": "2024-07-11T15:43:54.446022Z"
    }
   },
   "outputs": [],
   "source": [
    "\n",
    "model_inputs = tokenizer(input_list, padding=\"longest\", return_tensors=\"pt\")\n",
    "\n",
    "labels_dict = tokenizer(label_list, padding=\"longest\", return_tensors=\"pt\")\n",
    "labels = labels_dict.input_ids\n",
    "\n",
    "m = model(**model_inputs, labels=labels)\n",
    "# m = model(input_list, labels=label_list)"
   ]
  },
  {
   "cell_type": "code",
   "execution_count": 7,
   "id": "8813ad3e-3060-47cc-aee0-bb1965fe89fe",
   "metadata": {
    "execution": {
     "iopub.execute_input": "2024-07-11T15:44:13.279478Z",
     "iopub.status.busy": "2024-07-11T15:44:13.279350Z",
     "iopub.status.idle": "2024-07-11T15:44:14.376478Z",
     "shell.execute_reply": "2024-07-11T15:44:14.375997Z",
     "shell.execute_reply.started": "2024-07-11T15:44:13.279463Z"
    },
    "tags": []
   },
   "outputs": [],
   "source": [
    "model.save_pretrained(f\"{model_root}/byT5-ocs-stanzapos-Prolog\")"
   ]
  }
 ],
 "metadata": {
  "kernelspec": {
   "display_name": "Python 3 (ipykernel)",
   "language": "python",
   "name": "python3"
  },
  "language_info": {
   "codemirror_mode": {
    "name": "ipython",
    "version": 3
   },
   "file_extension": ".py",
   "mimetype": "text/x-python",
   "name": "python",
   "nbconvert_exporter": "python",
   "pygments_lexer": "ipython3",
   "version": "3.11.7"
  }
 },
 "nbformat": 4,
 "nbformat_minor": 5
}

{
 "cells": [
  {
   "cell_type": "code",
   "execution_count": 1,
   "id": "508b3673",
   "metadata": {},
   "outputs": [],
   "source": [
    "import conllu\n",
    "import csv\n",
    "from glob import glob\n",
    "\n",
    "from config import data_root"
   ]
  },
  {
   "cell_type": "code",
   "execution_count": 2,
   "id": "24bcc14c",
   "metadata": {},
   "outputs": [],
   "source": [
    "dataset = \"chu_train\"\n",
    "# dataset = \"chu_valid\"\n",
    "# dataset = \"chu_test\"\n",
    "dataset = \"proiel_torot\"\n",
    "dataset = \"sigtyp\""
   ]
  },
  {
   "cell_type": "code",
   "execution_count": 3,
   "id": "08197848",
   "metadata": {},
   "outputs": [
    {
     "name": "stdout",
     "output_type": "stream",
     "text": [
      "./data/chu_valid.conllu 19779\n",
      "./data/chu_train.conllu 159368\n"
     ]
    },
    {
     "data": {
      "text/plain": [
       "179147"
      ]
     },
     "execution_count": 3,
     "metadata": {},
     "output_type": "execute_result"
    }
   ],
   "source": [
    "data = []\n",
    "for fname in glob(f\"{data_root}/chu_*.conllu\"):\n",
    "# for fname in glob(f\"{data_root}/{dataset}.conllu\")\n",
    "    with open(fname) as fin:\n",
    "        nxt = conllu.parse(fin.read())\n",
    "        print(fname, sum(len(d) for d in nxt))\n",
    "        data += nxt\n",
    "data\n",
    "sum(len(d) for d in data)"
   ]
  },
  {
   "cell_type": "code",
   "execution_count": 4,
   "id": "529bcd33",
   "metadata": {},
   "outputs": [
    {
     "data": {
      "text/plain": [
       "{'id': 1,\n",
       " 'form': 'Ѣко',\n",
       " 'lemma': 'ꙗко',\n",
       " 'upos': 'ADV',\n",
       " 'xpos': 'Df',\n",
       " 'feats': None,\n",
       " 'head': 3,\n",
       " 'deprel': 'discourse',\n",
       " 'deps': None,\n",
       " 'misc': {'ref': '135.26', 'LId': '2'}}"
      ]
     },
     "execution_count": 4,
     "metadata": {},
     "output_type": "execute_result"
    }
   ],
   "source": [
    "data[0][0]"
   ]
  },
  {
   "cell_type": "code",
   "execution_count": 5,
   "id": "735724b6",
   "metadata": {},
   "outputs": [],
   "source": [
    "transformed = []\n",
    "for sent in data:\n",
    "    for t in sent:\n",
    "        transformed += [[f': {t[\"form\"].lower()}:{t[\"upos\"]}', t[\"lemma\"]]]\n",
    "\n",
    "with open(f\"{data_root}/{dataset}.csv\", \"w\") as fout:\n",
    "    wrt = csv.writer(fout)\n",
    "    wrt.writerows(transformed)"
   ]
  }
 ],
 "metadata": {
  "kernelspec": {
   "display_name": "Python 3 (ipykernel)",
   "language": "python",
   "name": "python3"
  },
  "language_info": {
   "codemirror_mode": {
    "name": "ipython",
    "version": 3
   },
   "file_extension": ".py",
   "mimetype": "text/x-python",
   "name": "python",
   "nbconvert_exporter": "python",
   "pygments_lexer": "ipython3",
   "version": "3.10.12"
  }
 },
 "nbformat": 4,
 "nbformat_minor": 5
}

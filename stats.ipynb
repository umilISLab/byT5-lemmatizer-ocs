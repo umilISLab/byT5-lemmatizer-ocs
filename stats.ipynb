{
 "cells": [
  {
   "cell_type": "code",
   "execution_count": 1,
   "id": "10beb89a",
   "metadata": {},
   "outputs": [],
   "source": [
    "from glob import glob\n",
    "from tqdm import tqdm\n",
    "\n",
    "from config import data_root"
   ]
  },
  {
   "cell_type": "code",
   "execution_count": 10,
   "id": "cff23b04",
   "metadata": {},
   "outputs": [
    {
     "name": "stderr",
     "output_type": "stream",
     "text": [
      "100%|█████████████████████████████████████████| 53/53 [00:00<00:00, 1130.39it/s]"
     ]
    },
    {
     "name": "stdout",
     "output_type": "stream",
     "text": [
      "./stanza_pos/31-slovo31.train : ИОАⷩ:PROPN 12\n",
      "./stanza_pos/31-slovo31.train иоаръ 5\n",
      "./stanza_pos/31-slovo31.train : ⷮОУстаго:PROPN 16\n",
      "./stanza_pos/31-slovo31.train ⷮоустакъ 8\n",
      "./stanza_pos/31-slovo31.train съказаниѥ 9\n",
      "./stanza_pos/31-slovo31.train благословиѥ 11\n",
      "./stanza_pos/31-slovo31.train благословесинъ 14\n",
      "./stanza_pos/31-slovo31.train : многоб҃жьствьнааго:ADJ 24\n",
      "./stanza_pos/50-slovo50.train мъногоразличьнъ 15\n",
      "./stanza_pos/20-slovo20.train млтвиствьствовѣти 17\n",
      "./stanza_pos/47-slovo47.train съведетельствовати 18\n",
      "./stanza_pos/45-slovo45.train : лїхословесьствоуимъ:VERB 26\n",
      "./stanza_pos/45-slovo45.train лихословесьствовати 19\n",
      "./stanza_pos/51-slovo51.train : приетоу(!)пи(!)стоупимъ:VERB 30\n"
     ]
    },
    {
     "name": "stderr",
     "output_type": "stream",
     "text": [
      "\n"
     ]
    }
   ],
   "source": [
    "inputs = {}\n",
    "labels = {}\n",
    "\n",
    "longest_input = \"\"\n",
    "longest_label = \"\"\n",
    "\n",
    "# for fname in tqdm(glob(f\"{data_root}/00-Prolog.train\")):\n",
    "for fname in tqdm(glob(f\"{data_root}/*.train\")):\n",
    "    #     print(fname)\n",
    "    inputs[fname] = []\n",
    "    labels[fname] = []\n",
    "    with open(fname) as fin:\n",
    "        for i, row in enumerate(fin):\n",
    "            line = row[:-1].split(\"\\t\")\n",
    "            if len(longest_input) < len(line[0]):\n",
    "                print(fname, line[0], len(line[0]))\n",
    "                longest_input = line[0]\n",
    "            if len(longest_label) < len(line[1]):\n",
    "                print(fname, line[1], len(line[1]))\n",
    "                longest_label = line[1]\n",
    "            inputs[fname] += [line[0]]\n",
    "            labels[fname] += [line[1]]"
   ]
  },
  {
   "cell_type": "code",
   "execution_count": 5,
   "id": "0f1111b6",
   "metadata": {},
   "outputs": [
    {
     "data": {
      "text/plain": [
       "(': приетоу(!)пи(!)стоупимъ:VERB', 'лихословесьствовати')"
      ]
     },
     "execution_count": 5,
     "metadata": {},
     "output_type": "execute_result"
    }
   ],
   "source": [
    "longest_input, longest_label"
   ]
  },
  {
   "cell_type": "code",
   "execution_count": 9,
   "id": "ce53decb",
   "metadata": {},
   "outputs": [
    {
     "data": {
      "text/plain": [
       "(30, 19)"
      ]
     },
     "execution_count": 9,
     "metadata": {},
     "output_type": "execute_result"
    }
   ],
   "source": [
    "len(longest_input), len(longest_label)"
   ]
  },
  {
   "cell_type": "code",
   "execution_count": 8,
   "id": "29139f87",
   "metadata": {},
   "outputs": [
    {
     "data": {
      "text/plain": [
       "47293"
      ]
     },
     "execution_count": 8,
     "metadata": {},
     "output_type": "execute_result"
    }
   ],
   "source": [
    "sum(len(v) for v in inputs.values())"
   ]
  },
  {
   "cell_type": "code",
   "execution_count": 7,
   "id": "28535891",
   "metadata": {},
   "outputs": [
    {
     "data": {
      "text/plain": [
       "{'./stanza_pos/31-slovo31.train': 1057,\n",
       " './stanza_pos/24-slovo24.train': 744,\n",
       " './stanza_pos/50-slovo50.train': 1392,\n",
       " './stanza_pos/20-slovo20.train': 1147,\n",
       " './stanza_pos/33-slovo33.train': 624,\n",
       " './stanza_pos/09-slovo9.train': 806,\n",
       " './stanza_pos/48-slovo48.train': 851,\n",
       " './stanza_pos/07-slovo7.train': 1078,\n",
       " './stanza_pos/49-slovo49.train': 776,\n",
       " './stanza_pos/47-slovo47.train': 1016,\n",
       " './stanza_pos/19-slovo19.train': 1206,\n",
       " './stanza_pos/45-slovo45.train': 517,\n",
       " './stanza_pos/36-slovo36.train': 445,\n",
       " './stanza_pos/41-slovo41.train': 599,\n",
       " './stanza_pos/23-slovo23.train': 673,\n",
       " './stanza_pos/12-slovo12.train': 379,\n",
       " './stanza_pos/27-slovo27.train': 597,\n",
       " './stanza_pos/51-slovo51.train': 1311,\n",
       " './stanza_pos/10-slovo10.train': 558,\n",
       " './stanza_pos/25-slovo25.train': 774,\n",
       " './stanza_pos/13-slovo13.train': 493,\n",
       " './stanza_pos/40-slovo40.train': 602,\n",
       " './stanza_pos/18-slovo18.train': 1019,\n",
       " './stanza_pos/29-slovo29.train': 408,\n",
       " './stanza_pos/06-slovo6.train': 2290,\n",
       " './stanza_pos/26-slovo26.train': 526,\n",
       " './stanza_pos/01-slovo1.train': 1710,\n",
       " './stanza_pos/30-slovo30.train': 405,\n",
       " './stanza_pos/00-Prolog.train': 392,\n",
       " './stanza_pos/16-slovo16.train': 1029,\n",
       " './stanza_pos/15-slovo15.train': 674,\n",
       " './stanza_pos/21-slovo21.train': 741,\n",
       " './stanza_pos/46-slovo46.train': 818,\n",
       " './stanza_pos/43-slovo43.train': 633,\n",
       " './stanza_pos/11-slovo11.train': 1206,\n",
       " './stanza_pos/28-slovo28.train': 355,\n",
       " './stanza_pos/14-slovo14.train': 501,\n",
       " './stanza_pos/02-slovo2.train': 853,\n",
       " './stanza_pos/05-slovo5.train': 2188,\n",
       " './stanza_pos/08-slovo8.train': 1196,\n",
       " './stanza_pos/17-slovo17.train': 1089,\n",
       " './stanza_pos/38-slovo38.train': 2395,\n",
       " './stanza_pos/04-slovo4.train': 1033,\n",
       " './stanza_pos/22-slovo22.train': 875,\n",
       " './stanza_pos/42-slovo42.train': 349,\n",
       " './stanza_pos/35-slovo35.train': 1248,\n",
       " './stanza_pos/39-slovo39.train': 1264,\n",
       " './stanza_pos/34-slovo34.train': 871,\n",
       " './stanza_pos/32-slovo32.train': 1435,\n",
       " './stanza_pos/43-slovo34.train': 633,\n",
       " './stanza_pos/44-slovo44.train': 512,\n",
       " './stanza_pos/37-slovo37.train': 339,\n",
       " './stanza_pos/03-slovo3.train': 661}"
      ]
     },
     "execution_count": 7,
     "metadata": {},
     "output_type": "execute_result"
    }
   ],
   "source": [
    "{k: len(v) for k, v in inputs.items()}"
   ]
  }
 ],
 "metadata": {
  "kernelspec": {
   "display_name": "Python 3 (ipykernel)",
   "language": "python",
   "name": "python3"
  },
  "language_info": {
   "codemirror_mode": {
    "name": "ipython",
    "version": 3
   },
   "file_extension": ".py",
   "mimetype": "text/x-python",
   "name": "python",
   "nbconvert_exporter": "python",
   "pygments_lexer": "ipython3",
   "version": "3.10.12"
  }
 },
 "nbformat": 4,
 "nbformat_minor": 5
}
